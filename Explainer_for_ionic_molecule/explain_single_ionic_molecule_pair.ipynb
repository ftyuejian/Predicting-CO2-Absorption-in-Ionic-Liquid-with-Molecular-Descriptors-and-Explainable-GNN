{
 "cells": [
  {
   "cell_type": "markdown",
   "id": "072829c4-258e-40f2-8f4b-3d088760bd39",
   "metadata": {},
   "source": [
    "## This is a hotmap visualizer for the explain result of a single ionic molecule pair"
   ]
  },
  {
   "cell_type": "code",
   "execution_count": null,
   "id": "77fd030c-f97b-4116-9445-96cc6817df7f",
   "metadata": {},
   "outputs": [],
   "source": [
    "import torch\n",
    "from torch_geometric.data import Data, Dataset, DataLoader\n",
    "import networkx as nx\n",
    "import matplotlib as mpl\n",
    "from matplotlib import pyplot as plt\n",
    "from Dataset_explain import IL_set\n",
    "from Model import IL_Net_GCN,GIN,IL_GAT\n",
    "from Explainer import IL_Explainer\n",
    "from GIN_Runner import Args\n",
    "import numpy as np\n",
    "device = torch.device(\"cuda\" if torch.cuda.is_available() else \"cpu\")"
   ]
  },
  {
   "cell_type": "code",
   "execution_count": 2,
   "id": "b6bd425b",
   "metadata": {},
   "outputs": [],
   "source": [
    "# global args\n",
    "idx = 10"
   ]
  },
  {
   "cell_type": "code",
   "execution_count": 3,
   "id": "8e16d6d9",
   "metadata": {},
   "outputs": [
    {
     "name": "stdout",
     "output_type": "stream",
     "text": [
      "----info----\n",
      "data_length 10116\n",
      "------------\n"
     ]
    },
    {
     "name": "stderr",
     "output_type": "stream",
     "text": [
      "/home/ftyuejian/miniconda3/envs/IL/lib/python3.9/site-packages/torch_geometric/deprecation.py:12: UserWarning: 'data.DataLoader' is deprecated, use 'loader.DataLoader' instead\n",
      "  warnings.warn(out)\n"
     ]
    }
   ],
   "source": [
    "# load model\n",
    "model = GIN(Args)\n",
    "state_dict_mod = torch.load('best_model_para.pth',map_location=torch.device('cpu'))\n",
    "model.load_state_dict(state_dict_mod)\n",
    "\n",
    "# get data\n",
    "Whole_set = IL_set(path = Args['data_path'])\n",
    "explain_loader = DataLoader(Whole_set,batch_size = 1,shuffle=False,collate_fn=IL_set.collate_fn)\n",
    "for i,(graph,cond,label,num_bond) in enumerate(explain_loader):\n",
    "    if i == idx:\n",
    "        break"
   ]
  },
  {
   "cell_type": "code",
   "execution_count": 4,
   "id": "5e8a3bf9",
   "metadata": {},
   "outputs": [],
   "source": [
    "# explain\n",
    "explainer = IL_Explainer(model, epochs = 150,lr = 0.001,return_type='log_prob')\n",
    "node_feat_mask, edge_mask = explainer.explain_graph(graph,cond)\n",
    "# process and show the shape of the mask\n",
    "node_mask = edge_mask[num_bond:]"
   ]
  },
  {
   "cell_type": "code",
   "execution_count": 5,
   "id": "afc9c1f5",
   "metadata": {},
   "outputs": [],
   "source": [
    "# process node weight\n",
    "num_node = graph.x.shape[0] - 1\n",
    "w_n = []\n",
    "for i in range(num_node):\n",
    "    w = (node_mask[i] + node_mask[i + num_node])/2\n",
    "    w_n.append(w.item())"
   ]
  },
  {
   "cell_type": "code",
   "execution_count": 6,
   "id": "a080d045",
   "metadata": {},
   "outputs": [],
   "source": [
    "# build networkx graph\n",
    "Gr,c,l,num_b = Whole_set[idx]\n",
    "g = nx.Graph()\n",
    "# add node\n",
    "node_list = list(range(Gr.x.shape[0] - 1))\n",
    "g.add_nodes_from(node_list)\n",
    "\n",
    "# add edge\n",
    "node_a = ((Gr.edge_index)[0][0:num_b]).tolist()\n",
    "node_b = ((Gr.edge_index)[1][0:num_b]).tolist()\n",
    "\n",
    "edge = []\n",
    "for item in zip(node_a,node_b):\n",
    "    edge.append(item)\n",
    "g.add_edges_from(edge)"
   ]
  },
  {
   "cell_type": "code",
   "execution_count": 7,
   "id": "6f782bbf-4a99-4f97-8618-573ed7a67672",
   "metadata": {},
   "outputs": [
    {
     "data": {
      "image/png": "[encoded data removed]",
      "text/plain": [
       "<Figure size 576x576 with 2 Axes>"
      ]
     },
     "metadata": {
      "needs_background": "light"
     },
     "output_type": "display_data"
    }
   ],
   "source": [
    "pos = nx.spring_layout(g, seed=400) \n",
    "\n",
    "plt.figure(figsize=(8, 8))\n",
    "nx.draw_networkx_edges(g, pos, alpha=0.4)\n",
    "node = nx.draw_networkx_nodes(\n",
    "    g,\n",
    "    pos,\n",
    "    nodelist=list(g.nodes),\n",
    "    node_size=50,\n",
    "    node_color=w_n,\n",
    "    cmap=plt.cm.Reds,\n",
    ")\n",
    "\n",
    "plt.colorbar(node)\n",
    "plt.axis(\"off\")\n",
    "plt.savefig('importance hot map for single IL')"
   ]
  }
 ],
 "metadata": {
  "kernelspec": {
   "display_name": "Python 3 (ipykernel)",
   "language": "python",
   "name": "python3"
  },
  "language_info": {
   "codemirror_mode": {
    "name": "ipython",
    "version": 3
   },
   "file_extension": ".py",
   "mimetype": "text/x-python",
   "name": "python",
   "nbconvert_exporter": "python",
   "pygments_lexer": "ipython3",
   "version": "3.7.13"
  }
 },
 "nbformat": 4,
 "nbformat_minor": 5
}
